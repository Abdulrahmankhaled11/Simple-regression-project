{
 "cells": [
  {
   "cell_type": "code",
   "execution_count": 1,
   "id": "c4f9a748-7fdf-4f94-8cf3-40f83b2856b1",
   "metadata": {},
   "outputs": [],
   "source": [
    "import numpy as np\n",
    "import pandas as pd\n",
    "import matplotlib.pyplot as plt\n",
    "import seaborn as sns \n",
    "import plotly.express as px\n",
    "\n",
    "from sklearn.linear_model import LinearRegression"
   ]
  },
  {
   "cell_type": "code",
   "execution_count": 2,
   "id": "2b6c5376-5ad2-4f46-a194-9ad83567d04f",
   "metadata": {},
   "outputs": [],
   "source": [
    "train = pd.read_csv(\"reg1_train.csv\")\n",
    "test = pd.read_csv(\"reg1_test.csv\")"
   ]
  },
  {
   "cell_type": "code",
   "execution_count": 3,
   "id": "083beb27-c203-4c95-8a0f-21a549320f54",
   "metadata": {},
   "outputs": [
    {
     "data": {
      "text/html": [
       "<div>\n",
       "<style scoped>\n",
       "    .dataframe tbody tr th:only-of-type {\n",
       "        vertical-align: middle;\n",
       "    }\n",
       "\n",
       "    .dataframe tbody tr th {\n",
       "        vertical-align: top;\n",
       "    }\n",
       "\n",
       "    .dataframe thead th {\n",
       "        text-align: right;\n",
       "    }\n",
       "</style>\n",
       "<table border=\"1\" class=\"dataframe\">\n",
       "  <thead>\n",
       "    <tr style=\"text-align: right;\">\n",
       "      <th></th>\n",
       "      <th>x</th>\n",
       "      <th>y</th>\n",
       "    </tr>\n",
       "  </thead>\n",
       "  <tbody>\n",
       "    <tr>\n",
       "      <th>0</th>\n",
       "      <td>24.0</td>\n",
       "      <td>21.549452</td>\n",
       "    </tr>\n",
       "    <tr>\n",
       "      <th>1</th>\n",
       "      <td>50.0</td>\n",
       "      <td>47.464463</td>\n",
       "    </tr>\n",
       "    <tr>\n",
       "      <th>2</th>\n",
       "      <td>15.0</td>\n",
       "      <td>17.218656</td>\n",
       "    </tr>\n",
       "    <tr>\n",
       "      <th>3</th>\n",
       "      <td>38.0</td>\n",
       "      <td>36.586398</td>\n",
       "    </tr>\n",
       "    <tr>\n",
       "      <th>4</th>\n",
       "      <td>87.0</td>\n",
       "      <td>87.288984</td>\n",
       "    </tr>\n",
       "  </tbody>\n",
       "</table>\n",
       "</div>"
      ],
      "text/plain": [
       "      x          y\n",
       "0  24.0  21.549452\n",
       "1  50.0  47.464463\n",
       "2  15.0  17.218656\n",
       "3  38.0  36.586398\n",
       "4  87.0  87.288984"
      ]
     },
     "execution_count": 3,
     "metadata": {},
     "output_type": "execute_result"
    }
   ],
   "source": [
    "train.head()"
   ]
  },
  {
   "cell_type": "code",
   "execution_count": 4,
   "id": "f40aef20-1601-4fb4-9af4-e7d13225e059",
   "metadata": {},
   "outputs": [
    {
     "name": "stdout",
     "output_type": "stream",
     "text": [
      "<class 'pandas.core.frame.DataFrame'>\n",
      "RangeIndex: 700 entries, 0 to 699\n",
      "Data columns (total 2 columns):\n",
      " #   Column  Non-Null Count  Dtype  \n",
      "---  ------  --------------  -----  \n",
      " 0   x       700 non-null    float64\n",
      " 1   y       699 non-null    float64\n",
      "dtypes: float64(2)\n",
      "memory usage: 11.1 KB\n"
     ]
    }
   ],
   "source": [
    "train.info()"
   ]
  },
  {
   "cell_type": "code",
   "execution_count": 5,
   "id": "7f92d69b-6d5a-44bb-bbed-c6f1851f7b84",
   "metadata": {},
   "outputs": [],
   "source": [
    "train.dropna(inplace = True)"
   ]
  },
  {
   "cell_type": "code",
   "execution_count": 6,
   "id": "c5ca3599-5c3d-4d53-8556-45949f2df091",
   "metadata": {},
   "outputs": [
    {
     "data": {
      "text/plain": [
       "0"
      ]
     },
     "execution_count": 6,
     "metadata": {},
     "output_type": "execute_result"
    }
   ],
   "source": [
    "train.isnull().sum().sum()"
   ]
  },
  {
   "cell_type": "code",
   "execution_count": 7,
   "id": "1e6db1ed-2373-4156-bbdc-0fba6bcc0306",
   "metadata": {},
   "outputs": [
    {
     "data": {
      "text/html": [
       "<div>\n",
       "<style scoped>\n",
       "    .dataframe tbody tr th:only-of-type {\n",
       "        vertical-align: middle;\n",
       "    }\n",
       "\n",
       "    .dataframe tbody tr th {\n",
       "        vertical-align: top;\n",
       "    }\n",
       "\n",
       "    .dataframe thead th {\n",
       "        text-align: right;\n",
       "    }\n",
       "</style>\n",
       "<table border=\"1\" class=\"dataframe\">\n",
       "  <thead>\n",
       "    <tr style=\"text-align: right;\">\n",
       "      <th></th>\n",
       "      <th>x</th>\n",
       "      <th>y</th>\n",
       "    </tr>\n",
       "  </thead>\n",
       "  <tbody>\n",
       "    <tr>\n",
       "      <th>0</th>\n",
       "      <td>77</td>\n",
       "      <td>79.775152</td>\n",
       "    </tr>\n",
       "    <tr>\n",
       "      <th>1</th>\n",
       "      <td>21</td>\n",
       "      <td>23.177279</td>\n",
       "    </tr>\n",
       "    <tr>\n",
       "      <th>2</th>\n",
       "      <td>22</td>\n",
       "      <td>25.609262</td>\n",
       "    </tr>\n",
       "    <tr>\n",
       "      <th>3</th>\n",
       "      <td>20</td>\n",
       "      <td>17.857388</td>\n",
       "    </tr>\n",
       "    <tr>\n",
       "      <th>4</th>\n",
       "      <td>36</td>\n",
       "      <td>41.849864</td>\n",
       "    </tr>\n",
       "  </tbody>\n",
       "</table>\n",
       "</div>"
      ],
      "text/plain": [
       "    x          y\n",
       "0  77  79.775152\n",
       "1  21  23.177279\n",
       "2  22  25.609262\n",
       "3  20  17.857388\n",
       "4  36  41.849864"
      ]
     },
     "execution_count": 7,
     "metadata": {},
     "output_type": "execute_result"
    }
   ],
   "source": [
    "test.head()"
   ]
  },
  {
   "cell_type": "code",
   "execution_count": 8,
   "id": "17f581ad-e2a2-4903-9569-7a5af6c4abae",
   "metadata": {},
   "outputs": [
    {
     "name": "stdout",
     "output_type": "stream",
     "text": [
      "<class 'pandas.core.frame.DataFrame'>\n",
      "RangeIndex: 300 entries, 0 to 299\n",
      "Data columns (total 2 columns):\n",
      " #   Column  Non-Null Count  Dtype  \n",
      "---  ------  --------------  -----  \n",
      " 0   x       300 non-null    int64  \n",
      " 1   y       300 non-null    float64\n",
      "dtypes: float64(1), int64(1)\n",
      "memory usage: 4.8 KB\n"
     ]
    }
   ],
   "source": [
    "test.info()"
   ]
  },
  {
   "cell_type": "markdown",
   "id": "9ccd223e-2705-47dc-8531-1d6f2f187290",
   "metadata": {},
   "source": [
    "## visualize"
   ]
  },
  {
   "cell_type": "code",
   "execution_count": 9,
   "id": "57bf04e8-e01f-41f1-b064-26069af20783",
   "metadata": {},
   "outputs": [
    {
     "data": {
      "text/plain": [
       "<matplotlib.collections.PathCollection at 0x1cd7482cfa0>"
      ]
     },
     "execution_count": 9,
     "metadata": {},
     "output_type": "execute_result"
    },
    {
     "data": {
      "image/png": "[encoded data removed]",
      "text/plain": [
       "<Figure size 640x480 with 1 Axes>"
      ]
     },
     "metadata": {},
     "output_type": "display_data"
    }
   ],
   "source": [
    "plt.scatter(train['x'],train['y'])\n"
   ]
  },
  {
   "cell_type": "markdown",
   "id": "429820f1-6e7e-494c-b113-43ffe7b77008",
   "metadata": {
    "tags": []
   },
   "source": [
    "----------------\n",
    "## Split the data"
   ]
  },
  {
   "cell_type": "code",
   "execution_count": 10,
   "id": "380191de-906e-421e-8a0e-7c389f731385",
   "metadata": {},
   "outputs": [],
   "source": [
    "x_train = train.iloc[:,:-1].values\n",
    "y_train = train.iloc[:,-1].values\n",
    "x_test = test.iloc[:,:-1].values\n",
    "y_test = test.iloc[:,-1].values"
   ]
  },
  {
   "cell_type": "markdown",
   "id": "476e8cc5-3f47-4d02-ad8e-1cee23fb9a81",
   "metadata": {},
   "source": [
    "## create the model and trian it "
   ]
  },
  {
   "cell_type": "code",
   "execution_count": 11,
   "id": "b732b325-d628-4ed0-b13a-2ebcd1999a7f",
   "metadata": {},
   "outputs": [
    {
     "data": {
      "text/plain": [
       "LinearRegression()"
      ]
     },
     "execution_count": 11,
     "metadata": {},
     "output_type": "execute_result"
    }
   ],
   "source": [
    "model = LinearRegression()\n",
    "model.fit(x_train,y_train)"
   ]
  },
  {
   "cell_type": "code",
   "execution_count": 12,
   "id": "428a21f6-ba2e-40e6-9251-810dbba16e97",
   "metadata": {},
   "outputs": [],
   "source": [
    "y_pred = model.predict(x_test)"
   ]
  },
  {
   "cell_type": "code",
   "execution_count": 13,
   "id": "1e8ab918-2375-405d-8336-eb5a53059261",
   "metadata": {},
   "outputs": [
    {
     "data": {
      "text/plain": [
       "array([ 79.77515201,  23.17727887,  25.60926156,  17.85738813,\n",
       "        41.84986439,   9.80523488,  58.87465933,  97.61793701,\n",
       "        18.39512747,   8.74674765,   2.81141583,  17.09537241,\n",
       "        95.14907176,  61.38800663,  40.24701716,  14.82248589,\n",
       "        66.95806869,  16.63507984,  90.65513736,  77.22982636,\n",
       "        92.11906278,  46.91387709,  89.82634442,  21.71380347,\n",
       "        97.41206981,  57.01631363,  78.31056542,  19.1315097 ,\n",
       "        93.03483388,  26.59112396,  97.55155344,  31.43524822,\n",
       "        35.12724777,  78.61042432,  33.07112825,  51.69967172,\n",
       "        53.62235225,  69.46306072,  27.42497237,  36.34644189,\n",
       "        95.06140858,  68.16724757,  50.96155532,  78.04237454,\n",
       "         5.60766487,  36.11334779,  67.2352155 ,  65.01324035,\n",
       "        38.14753871,  34.31141446,  95.28503937,  87.84749912,\n",
       "        54.08170635,  31.93063515,  59.61247085,  -1.04011421,\n",
       "        47.49374765,  62.60089773,  70.9146434 ,  56.14834113,\n",
       "        14.05572877,  68.11367147,  75.59701346,  59.225745  ,\n",
       "        85.45504157,  17.76197116,  38.68888682,  50.96343637,\n",
       "        51.83503872,  17.0761107 ,  46.56141773,  10.34754461,\n",
       "        77.91032969,  50.17008622,  13.25690647,  31.32274932,\n",
       "        73.9308764 ,  74.45114379,  52.01932286,  83.68820499,\n",
       "        70.3698748 ,  23.44479161,  49.83051801,  49.88226593,\n",
       "        41.04525583,  33.37834391,  81.29750133, 105.5918375 ,\n",
       "        56.82457013,  48.67252645,  67.02150613,  38.43076389,\n",
       "        58.61466887,  89.12377509,  60.9105427 ,  13.83959878,\n",
       "        16.89085185,  84.06676818,  70.34969772,  33.38474138,\n",
       "        -1.63296825,  88.54475895,  17.44047622,  75.69298554,\n",
       "        41.97607107,  12.59244741,   0.27530726,  98.13258005,\n",
       "        87.45721555,  -2.34473854,  39.3294153 ,  16.68715211,\n",
       "        96.58888601,  97.70342201,  67.01715955,  25.63476257,\n",
       "        13.41310757,  95.15647284,   9.74416426,  -3.46788379,\n",
       "        62.82816355,  97.27405461,  95.58017185,   7.46850184,\n",
       "        45.44599591,  46.69013968,  74.4993599 ,  21.63500655,\n",
       "        91.59548851,  26.49487961,  67.38654703,  74.25362837,\n",
       "        12.07991648,  21.32273728,  29.31770045,  26.48713683,\n",
       "        68.94699774,  59.10598995,  64.37521087,  60.20758349,\n",
       "        70.34329706,  97.1082562 ,  75.7584178 ,  10.80462727,\n",
       "        12.11219941,  63.28312382,  98.03017721,  63.19354354,\n",
       "        34.8534823 ,  -2.81991397,  59.8313966 ,  29.38505024,\n",
       "        97.00148372,  85.18657275,  61.74063192,  18.84798163,\n",
       "        78.79008525,  95.12400481,  30.48881287,  10.41468095,\n",
       "        38.98317436,  46.11021062,  52.45103628,  21.16523945,\n",
       "        52.28620611,  44.18863945,  97.13832018,  67.22008001,\n",
       "        18.98322306,  24.3884599 ,  79.44769523,  40.03504862,\n",
       "        53.32005764,  54.55446979,  -2.7611826 ,  37.80182795,\n",
       "        57.48741435,  36.06292994,  49.83538167,  74.68953276,\n",
       "        14.86159401, 101.0697879 ,  99.43577876,  91.69240746,\n",
       "        34.12473248,   6.07939007,  59.07247174,  56.43046022,\n",
       "        30.49412933,  48.35172635,  89.73153611,  72.86282528,\n",
       "        80.97144285,  91.36566374,  60.07137496,  99.87382707,\n",
       "         8.65571417,  69.39858505,  19.38780134,  53.11628433,\n",
       "        78.39683006,  25.75612514,  75.07484683,  92.88772282,\n",
       "        69.45498498,  13.12109842,  48.09843134,  79.3142548 ,\n",
       "        68.48820749,  73.2300846 ,  24.68362712,  41.90368917,\n",
       "        62.22635684,  45.96396877,  23.52647153,  51.80035866,\n",
       "        51.10774273,  95.79747345,   9.24113898,   7.64652976,\n",
       "         9.28169975, 103.5266162 ,  47.41006725,  42.03835773,\n",
       "        96.11982476,  38.05766408, 105.4503788 ,  88.80306911,\n",
       "        15.49301141,  12.42624606,  40.00709598,   5.6340309 ,\n",
       "        87.36938931,  89.73951993,  66.61499643,  72.9138853 ,\n",
       "        57.19103506,  11.21710477,   0.67607675,  28.15668543,\n",
       "        95.3958003 ,  52.05490703,  59.70864577,  36.79224762,\n",
       "        37.08457698,  24.18437976,  67.28725332,  82.870594  ,\n",
       "        89.899991  ,  36.94173178,  19.87562242,  90.71481654,\n",
       "        61.09367762,  60.11134958,  64.83296316,  81.40381769,\n",
       "        92.40217686,   2.57662538,  63.80768172,  38.67780759,\n",
       "        16.82839701,  99.78687252,  44.68913433,  71.00377824,\n",
       "        51.57326718,  19.87846479,  79.50341495,  34.58876491,\n",
       "        55.7383467 ,  68.19721905,  55.81628509,   9.3914168 ,\n",
       "        56.01448111,  77.9969477 ,  55.37049953,  11.89457829,\n",
       "        94.79081712,  25.69041546,  53.52042319,  18.31396758,\n",
       "        21.42637785,  30.41303282,  67.68142149,  17.0854783 ,\n",
       "        60.91792707,  14.99514319,  16.74923937,  41.46923883,\n",
       "        42.84526108,  59.12912974,  91.30863673,   8.67333636,\n",
       "        39.31485292,   5.3136862 ,   5.40522052,  68.5458879 ,\n",
       "        47.33487629,  54.09063686,  63.29717058,  52.45946688])"
      ]
     },
     "execution_count": 13,
     "metadata": {},
     "output_type": "execute_result"
    }
   ],
   "source": [
    "y_test"
   ]
  },
  {
   "cell_type": "code",
   "execution_count": 22,
   "id": "dc76d5dd-b5da-4c22-bd5f-3f1e799a89f0",
   "metadata": {},
   "outputs": [
    {
     "data": {
      "text/plain": [
       "array([76.94327594, 20.90651855, 21.90717494, 19.90586217, 35.91636428,\n",
       "       14.90258026, 61.93343021, 94.95509081, 19.90586217,  4.89601644,\n",
       "        3.89536006, 18.90520579, 95.95574719, 61.93343021, 35.91636428,\n",
       "       14.90258026, 64.93539936, 13.90192388, 86.94983976, 68.93802488,\n",
       "       88.95115252, 50.92621001, 88.95115252, 26.91045685, 96.95640358,\n",
       "       57.93080468, 78.9445887 , 20.90651855, 92.95377805, 26.91045685,\n",
       "       98.95771634, 30.91308237, 32.91439514, 79.94524508, 27.91111323,\n",
       "       46.92358448, 52.92752277, 68.93802488, 27.91111323, 32.91439514,\n",
       "       90.95246528, 70.93933765, 49.92555363, 75.94261956,  3.89536006,\n",
       "       36.91702066, 69.93868127, 67.9373685 , 39.91898981, 34.9157079 ,\n",
       "       93.95443443, 87.95049614, 51.92686639, 30.91308237, 58.93146107,\n",
       "       -0.10726546, 38.91833343, 63.93474297, 68.93802488, 56.9301483 ,\n",
       "       12.9012675 , 71.93999403, 75.94261956, 60.93277383, 81.94655785,\n",
       "       17.90454941, 40.91964619, 49.92555363, 54.92883554, 12.9012675 ,\n",
       "       45.9229281 , 12.9012675 , 78.9445887 , 52.92752277, 14.90258026,\n",
       "       27.91111323, 80.94590147, 68.93802488, 51.92686639, 83.94787061,\n",
       "       67.9373685 , 26.91045685, 55.92949192, 47.92424086, 39.91898981,\n",
       "       38.91833343, 81.94655785, 99.95837272, 58.93146107, 42.92095896,\n",
       "       66.93671212, 37.91767705, 62.93408659, 90.95246528, 59.93211745,\n",
       "       13.90192388, 20.90651855, 86.94983976, 72.94065041, 31.91373876,\n",
       "        1.8940473 , 81.94655785, 18.90520579, 73.94130679, 41.92030257,\n",
       "       11.90061112,  0.89339092, 89.9518089 , 88.95115252, -0.10726546,\n",
       "       40.91964619, 15.90323665, 93.95443443, 96.95640358, 65.93605574,\n",
       "       23.9084877 , 16.90389303, 89.9518089 , 12.9012675 , -0.10726546,\n",
       "       63.93474297, 95.95574719, 97.95705996, 11.90061112, 40.91964619,\n",
       "       46.92358448, 77.94393232, 19.90586217, 88.95115252, 28.91176961,\n",
       "       63.93474297, 74.94196317, 11.90061112, 24.90914408, 27.91111323,\n",
       "       29.91242599, 64.93539936, 58.93146107, 63.93474297, 52.92752277,\n",
       "       70.93933765, 96.95640358, 72.94065041,  8.89864197, 11.90061112,\n",
       "       62.93408659, 98.95771634, 59.93211745, 34.9157079 ,  1.8940473 ,\n",
       "       59.93211745, 31.91373876, 93.95443443, 83.94787061, 62.93408659,\n",
       "       21.90717494, 80.94590147, 92.95377805, 32.91439514,  6.89732921,\n",
       "       41.92030257, 45.9229281 , 53.92817916, 15.90323665, 48.92489725,\n",
       "       42.92095896, 94.95509081, 65.93605574, 20.90651855, 34.9157079 ,\n",
       "       79.94524508, 36.91702066, 53.92817916, 55.92949192,  0.89339092,\n",
       "       31.91373876, 57.93080468, 31.91373876, 45.9229281 , 71.93999403,\n",
       "       16.90389303, 96.95640358, 92.95377805, 90.95246528, 36.91702066,\n",
       "        3.89536006, 53.92817916, 50.92621001, 26.91045685, 45.9229281 ,\n",
       "       91.95312167, 72.94065041, 76.94327594, 90.95246528, 60.93277383,\n",
       "       98.95771634,  3.89536006, 71.93999403, 18.90520579, 56.9301483 ,\n",
       "       77.94393232, 25.90980046, 73.94130679, 89.9518089 , 65.93605574,\n",
       "       12.9012675 , 39.91898981, 76.94327594, 66.93671212, 74.94196317,\n",
       "       22.90783132, 44.92227172, 58.93146107, 43.92161534, 22.90783132,\n",
       "       54.92883554, 54.92883554, 94.95509081, 11.90061112,  3.89536006,\n",
       "        6.89732921, 99.95837272, 47.92424086, 41.92030257, 95.95574719,\n",
       "       38.91833343, 99.95837272, 86.94983976, 13.90192388, 13.90192388,\n",
       "       36.91702066,  4.89601644, 87.95049614, 90.95246528, 64.93539936,\n",
       "       73.94130679, 55.92949192, 15.90323665,  4.89601644, 27.91111323,\n",
       "       91.95312167, 45.9229281 , 53.92817916, 38.91833343, 43.92161534,\n",
       "       30.91308237, 67.9373685 , 85.94918338, 89.9518089 , 37.91767705,\n",
       "       20.90651855, 94.95509081, 55.92949192, 59.93211745, 64.93539936,\n",
       "       77.94393232, 88.95115252,  5.89667283, 66.93671212, 35.91636428,\n",
       "       15.90323665, 99.95837272, 44.92227172, 72.94065041, 56.9301483 ,\n",
       "       19.90586217, 75.94261956, 33.91505152, 54.92883554, 71.93999403,\n",
       "       54.92883554,  7.89798559, 55.92949192, 71.93999403, 57.93080468,\n",
       "        5.89667283, 95.95574719, 22.90783132, 57.93080468, 22.90783132,\n",
       "       18.90520579, 24.90914408, 63.93474297, 20.90651855, 58.93146107,\n",
       "       18.90520579, 15.90323665, 41.92030257, 42.92095896, 60.93277383,\n",
       "       91.95312167, 10.89995474, 40.91964619,  0.89339092,  7.89798559,\n",
       "       70.93933765, 45.9229281 , 54.92883554, 61.93343021, 46.92358448])"
      ]
     },
     "execution_count": 22,
     "metadata": {},
     "output_type": "execute_result"
    }
   ],
   "source": [
    "y_pred"
   ]
  },
  {
   "cell_type": "code",
   "execution_count": 14,
   "id": "529f8fcb-7638-4161-8338-ee65f392356b",
   "metadata": {},
   "outputs": [
    {
     "data": {
      "text/plain": [
       "array([1.00065638])"
      ]
     },
     "execution_count": 14,
     "metadata": {},
     "output_type": "execute_result"
    }
   ],
   "source": [
    "model.coef_"
   ]
  },
  {
   "cell_type": "code",
   "execution_count": 15,
   "id": "1a4ed35b-f84e-46e7-a2a0-7bbf33a49985",
   "metadata": {},
   "outputs": [
    {
     "data": {
      "text/plain": [
       "-0.10726546430097272"
      ]
     },
     "execution_count": 15,
     "metadata": {},
     "output_type": "execute_result"
    }
   ],
   "source": [
    "model.intercept_"
   ]
  },
  {
   "cell_type": "code",
   "execution_count": 16,
   "id": "8696c79a-6ebc-494f-b731-51b02d7e7dba",
   "metadata": {},
   "outputs": [
    {
     "data": {
      "text/plain": [
       "[<matplotlib.lines.Line2D at 0x1cd74f4f5b0>]"
      ]
     },
     "execution_count": 16,
     "metadata": {},
     "output_type": "execute_result"
    },
    {
     "data": {
      "image/png": "[encoded data removed]",
      "text/plain": [
       "<Figure size 640x480 with 1 Axes>"
      ]
     },
     "metadata": {},
     "output_type": "display_data"
    }
   ],
   "source": [
    "plt.scatter(x_test,y_test)\n",
    "plt.plot(x_test.reshape(-1, 1),model.predict(x_test),color='red')"
   ]
  },
  {
   "cell_type": "code",
   "execution_count": 17,
   "id": "44e99d93-6fb4-4985-9a77-9d0b8603147e",
   "metadata": {},
   "outputs": [
    {
     "data": {
      "text/html": [
       "<div>\n",
       "<style scoped>\n",
       "    .dataframe tbody tr th:only-of-type {\n",
       "        vertical-align: middle;\n",
       "    }\n",
       "\n",
       "    .dataframe tbody tr th {\n",
       "        vertical-align: top;\n",
       "    }\n",
       "\n",
       "    .dataframe thead th {\n",
       "        text-align: right;\n",
       "    }\n",
       "</style>\n",
       "<table border=\"1\" class=\"dataframe\">\n",
       "  <thead>\n",
       "    <tr style=\"text-align: right;\">\n",
       "      <th></th>\n",
       "      <th>ACT</th>\n",
       "      <th>pred</th>\n",
       "    </tr>\n",
       "  </thead>\n",
       "  <tbody>\n",
       "    <tr>\n",
       "      <th>0</th>\n",
       "      <td>79.775152</td>\n",
       "      <td>76.943276</td>\n",
       "    </tr>\n",
       "    <tr>\n",
       "      <th>1</th>\n",
       "      <td>23.177279</td>\n",
       "      <td>20.906519</td>\n",
       "    </tr>\n",
       "    <tr>\n",
       "      <th>2</th>\n",
       "      <td>25.609262</td>\n",
       "      <td>21.907175</td>\n",
       "    </tr>\n",
       "    <tr>\n",
       "      <th>3</th>\n",
       "      <td>17.857388</td>\n",
       "      <td>19.905862</td>\n",
       "    </tr>\n",
       "    <tr>\n",
       "      <th>4</th>\n",
       "      <td>41.849864</td>\n",
       "      <td>35.916364</td>\n",
       "    </tr>\n",
       "  </tbody>\n",
       "</table>\n",
       "</div>"
      ],
      "text/plain": [
       "         ACT       pred\n",
       "0  79.775152  76.943276\n",
       "1  23.177279  20.906519\n",
       "2  25.609262  21.907175\n",
       "3  17.857388  19.905862\n",
       "4  41.849864  35.916364"
      ]
     },
     "execution_count": 17,
     "metadata": {},
     "output_type": "execute_result"
    }
   ],
   "source": [
    "df = pd.DataFrame({'ACT':y_test.flatten(),'pred':y_pred.flatten()})\n",
    "df.head()"
   ]
  },
  {
   "cell_type": "code",
   "execution_count": 18,
   "id": "c5ea5b97-dee0-424f-90e5-3d80f673fb5a",
   "metadata": {},
   "outputs": [
    {
     "data": {
      "text/plain": [
       "<AxesSubplot:>"
      ]
     },
     "execution_count": 18,
     "metadata": {},
     "output_type": "execute_result"
    },
    {
     "data": {
      "image/png": "[encoded data removed]",
      "text/plain": [
       "<Figure size 640x480 with 1 Axes>"
      ]
     },
     "metadata": {},
     "output_type": "display_data"
    }
   ],
   "source": [
    "df.head(30).plot(kind='bar')"
   ]
  },
  {
   "cell_type": "markdown",
   "id": "2f2648b0-3a3f-4046-9d81-3b1bedee1f4b",
   "metadata": {},
   "source": [
    "## build with statsmodel"
   ]
  },
  {
   "cell_type": "code",
   "execution_count": 19,
   "id": "bec11ec2-92a8-4067-852b-ee87593c33d0",
   "metadata": {},
   "outputs": [],
   "source": [
    "import statsmodels.api as sm"
   ]
  },
  {
   "cell_type": "code",
   "execution_count": 20,
   "id": "cc6a1f61-45bc-4f2e-8faa-d1b785142bf6",
   "metadata": {},
   "outputs": [],
   "source": [
    "x_stat = sm.add_constant(x_train)\n",
    "model2 = sm.OLS(y_train,x_stat).fit()"
   ]
  },
  {
   "cell_type": "code",
   "execution_count": 21,
   "id": "eb1b230b-38e1-4bda-ad2b-54c12a090d8d",
   "metadata": {},
   "outputs": [
    {
     "data": {
      "text/html": [
       "<table class=\"simpletable\">\n",
       "<caption>OLS Regression Results</caption>\n",
       "<tr>\n",
       "  <th>Dep. Variable:</th>            <td>y</td>        <th>  R-squared:         </th> <td>   0.991</td> \n",
       "</tr>\n",
       "<tr>\n",
       "  <th>Model:</th>                   <td>OLS</td>       <th>  Adj. R-squared:    </th> <td>   0.991</td> \n",
       "</tr>\n",
       "<tr>\n",
       "  <th>Method:</th>             <td>Least Squares</td>  <th>  F-statistic:       </th> <td>7.426e+04</td>\n",
       "</tr>\n",
       "<tr>\n",
       "  <th>Date:</th>             <td>Fri, 03 Mar 2023</td> <th>  Prob (F-statistic):</th>  <td>  0.00</td>  \n",
       "</tr>\n",
       "<tr>\n",
       "  <th>Time:</th>                 <td>20:08:29</td>     <th>  Log-Likelihood:    </th> <td> -1712.8</td> \n",
       "</tr>\n",
       "<tr>\n",
       "  <th>No. Observations:</th>      <td>   699</td>      <th>  AIC:               </th> <td>   3430.</td> \n",
       "</tr>\n",
       "<tr>\n",
       "  <th>Df Residuals:</th>          <td>   697</td>      <th>  BIC:               </th> <td>   3439.</td> \n",
       "</tr>\n",
       "<tr>\n",
       "  <th>Df Model:</th>              <td>     1</td>      <th>                     </th>     <td> </td>    \n",
       "</tr>\n",
       "<tr>\n",
       "  <th>Covariance Type:</th>      <td>nonrobust</td>    <th>                     </th>     <td> </td>    \n",
       "</tr>\n",
       "</table>\n",
       "<table class=\"simpletable\">\n",
       "<tr>\n",
       "    <td></td>       <th>coef</th>     <th>std err</th>      <th>t</th>      <th>P>|t|</th>  <th>[0.025</th>    <th>0.975]</th>  \n",
       "</tr>\n",
       "<tr>\n",
       "  <th>const</th> <td>   -0.1073</td> <td>    0.212</td> <td>   -0.506</td> <td> 0.613</td> <td>   -0.524</td> <td>    0.309</td>\n",
       "</tr>\n",
       "<tr>\n",
       "  <th>x1</th>    <td>    1.0007</td> <td>    0.004</td> <td>  272.510</td> <td> 0.000</td> <td>    0.993</td> <td>    1.008</td>\n",
       "</tr>\n",
       "</table>\n",
       "<table class=\"simpletable\">\n",
       "<tr>\n",
       "  <th>Omnibus:</th>       <td> 0.170</td> <th>  Durbin-Watson:     </th> <td>   1.966</td>\n",
       "</tr>\n",
       "<tr>\n",
       "  <th>Prob(Omnibus):</th> <td> 0.919</td> <th>  Jarque-Bera (JB):  </th> <td>   0.216</td>\n",
       "</tr>\n",
       "<tr>\n",
       "  <th>Skew:</th>          <td> 0.036</td> <th>  Prob(JB):          </th> <td>   0.898</td>\n",
       "</tr>\n",
       "<tr>\n",
       "  <th>Kurtosis:</th>      <td> 2.952</td> <th>  Cond. No.          </th> <td>    115.</td>\n",
       "</tr>\n",
       "</table><br/><br/>Notes:<br/>[1] Standard Errors assume that the covariance matrix of the errors is correctly specified."
      ],
      "text/plain": [
       "<class 'statsmodels.iolib.summary.Summary'>\n",
       "\"\"\"\n",
       "                            OLS Regression Results                            \n",
       "==============================================================================\n",
       "Dep. Variable:                      y   R-squared:                       0.991\n",
       "Model:                            OLS   Adj. R-squared:                  0.991\n",
       "Method:                 Least Squares   F-statistic:                 7.426e+04\n",
       "Date:                Fri, 03 Mar 2023   Prob (F-statistic):               0.00\n",
       "Time:                        20:08:29   Log-Likelihood:                -1712.8\n",
       "No. Observations:                 699   AIC:                             3430.\n",
       "Df Residuals:                     697   BIC:                             3439.\n",
       "Df Model:                           1                                         \n",
       "Covariance Type:            nonrobust                                         \n",
       "==============================================================================\n",
       "                 coef    std err          t      P>|t|      [0.025      0.975]\n",
       "------------------------------------------------------------------------------\n",
       "const         -0.1073      0.212     -0.506      0.613      -0.524       0.309\n",
       "x1             1.0007      0.004    272.510      0.000       0.993       1.008\n",
       "==============================================================================\n",
       "Omnibus:                        0.170   Durbin-Watson:                   1.966\n",
       "Prob(Omnibus):                  0.919   Jarque-Bera (JB):                0.216\n",
       "Skew:                           0.036   Prob(JB):                        0.898\n",
       "Kurtosis:                       2.952   Cond. No.                         115.\n",
       "==============================================================================\n",
       "\n",
       "Notes:\n",
       "[1] Standard Errors assume that the covariance matrix of the errors is correctly specified.\n",
       "\"\"\""
      ]
     },
     "execution_count": 21,
     "metadata": {},
     "output_type": "execute_result"
    }
   ],
   "source": [
    "model2.summary()"
   ]
  },
  {
   "cell_type": "code",
   "execution_count": null,
   "id": "9d85222b-9707-4ade-b64d-6d647e967a23",
   "metadata": {},
   "outputs": [],
   "source": []
  }
 ],
 "metadata": {
  "kernelspec": {
   "display_name": "Python 3 (ipykernel)",
   "language": "python",
   "name": "python3"
  },
  "language_info": {
   "codemirror_mode": {
    "name": "ipython",
    "version": 3
   },
   "file_extension": ".py",
   "mimetype": "text/x-python",
   "name": "python",
   "nbconvert_exporter": "python",
   "pygments_lexer": "ipython3",
   "version": "3.9.13"
  }
 },
 "nbformat": 4,
 "nbformat_minor": 5
}
